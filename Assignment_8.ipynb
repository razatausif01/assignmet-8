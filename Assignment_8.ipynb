{
  "cells": [
    {
      "cell_type": "markdown",
      "id": "de79b789",
      "metadata": {
        "id": "de79b789"
      },
      "source": [
        "1.\tWrite a Python Program to Add Two Matrices?\n",
        "2.\tWrite a Python Program to Multiply Two Matrices?\n",
        "3.\tWrite a Python Program to Transpose a Matrix?\n",
        "4.\tWrite a Python Program to Sort Words in Alphabetic Order?\n",
        "5.\tWrite a Python Program to Remove Punctuation From a String?\n"
      ]
    },
    {
      "cell_type": "markdown",
      "source": [
        "##Write a Python Program to Add Two Matrices"
      ],
      "metadata": {
        "id": "Xh-BqWIKq9o2"
      },
      "id": "Xh-BqWIKq9o2"
    },
    {
      "cell_type": "code",
      "source": [
        "\n",
        "# Program to add two matrices using nested loop\n",
        " \n",
        "X = [[1,2,3],\n",
        "    [4 ,5,6],\n",
        "    [7 ,8,9]]\n",
        " \n",
        "Y = [[9,8,7],\n",
        "    [6,5,4],\n",
        "    [3,2,1]]\n",
        " \n",
        " \n",
        "result = [[0,0,0],\n",
        "        [0,0,0],\n",
        "        [0,0,0]]\n",
        " \n",
        "# iterate through rows\n",
        "for i in range(len(X)):  \n",
        "# iterate through columns\n",
        "    for j in range(len(X[0])):\n",
        "        result[i][j] = X[i][j] + Y[i][j]"
      ],
      "metadata": {
        "id": "4Ii1kx90qgDo"
      },
      "id": "4Ii1kx90qgDo",
      "execution_count": null,
      "outputs": []
    },
    {
      "cell_type": "markdown",
      "source": [
        "##Write a Python Program to Multiply Two Matrice"
      ],
      "metadata": {
        "id": "f6MwITe9r8TQ"
      },
      "id": "f6MwITe9r8TQ"
    },
    {
      "cell_type": "code",
      "source": [
        "# Program to multiply two matrices using nested loops\n",
        " \n",
        "# take a 3x3 matrix\n",
        "A = [[12, 7, 3],\n",
        "    [4, 5, 6],\n",
        "    [7, 8, 9]]\n",
        " \n",
        "# take a 3x4 matrix   \n",
        "B = [[5, 8, 1, 2],\n",
        "    [6, 7, 3, 0],\n",
        "    [4, 5, 9, 1]]\n",
        "     \n",
        "result = [[0, 0, 0, 0],\n",
        "        [0, 0, 0, 0],\n",
        "        [0, 0, 0, 0]]\n",
        " \n",
        "# iterating by row of A\n",
        "for i in range(len(A)):\n",
        " \n",
        "    # iterating by column by B\n",
        "    for j in range(len(B[0])):\n",
        " \n",
        "        # iterating by rows of B\n",
        "        for k in range(len(B)):\n",
        "            result[i][j] += A[i][k] * B[k][j]\n",
        " \n",
        "for r in result:\n",
        "    print(r)"
      ],
      "metadata": {
        "colab": {
          "base_uri": "https://localhost:8080/"
        },
        "id": "q_27jO_6sAy-",
        "outputId": "813cd915-c483-4659-a0db-9d4c2f2687d5"
      },
      "id": "q_27jO_6sAy-",
      "execution_count": 1,
      "outputs": [
        {
          "output_type": "stream",
          "name": "stdout",
          "text": [
            "[114, 160, 60, 27]\n",
            "[74, 97, 73, 14]\n",
            "[119, 157, 112, 23]\n"
          ]
        }
      ]
    },
    {
      "cell_type": "markdown",
      "source": [
        "##Write a Python Program to Transpose a Matrix"
      ],
      "metadata": {
        "id": "MoYYucNDtrhG"
      },
      "id": "MoYYucNDtrhG"
    },
    {
      "cell_type": "code",
      "source": [
        "# Python3 Program to find\n",
        "# transpose of a matrix\n",
        " \n",
        "N = 4\n",
        " \n",
        "# This function stores\n",
        "# transpose of A[][] in B[][]\n",
        " \n",
        "def transpose(A,B):\n",
        " \n",
        " for i in range(N):\n",
        "  for j in range(N):\n",
        "   B[i][j] = A[j][i]\n",
        " \n",
        "# driver code\n",
        "A = [ [1, 1, 1, 1],\n",
        " [2, 2, 2, 2],\n",
        " [3, 3, 3, 3],\n",
        " [4, 4, 4, 4]]\n",
        " \n",
        " \n",
        "B = A[:][:] # To store result\n",
        " \n",
        "transpose(A, B)\n",
        " \n",
        "print(\"Result matrix is\")\n",
        "for i in range(N):\n",
        " for j in range(N):\n",
        "  print(B[i][j], \" \", end='')\n",
        " print()"
      ],
      "metadata": {
        "colab": {
          "base_uri": "https://localhost:8080/"
        },
        "id": "9izbLJgntua-",
        "outputId": "7bf711de-663d-4648-f5d5-45166e7759d6"
      },
      "id": "9izbLJgntua-",
      "execution_count": 2,
      "outputs": [
        {
          "output_type": "stream",
          "name": "stdout",
          "text": [
            "Result matrix is\n",
            "1  2  3  4  \n",
            "2  2  3  4  \n",
            "3  3  3  4  \n",
            "4  4  4  4  \n"
          ]
        }
      ]
    },
    {
      "cell_type": "markdown",
      "id": "f06ae854",
      "metadata": {
        "id": "f06ae854"
      },
      "source": [
        " ## Write a Python Program to Remove Punctuation From a String?"
      ]
    },
    {
      "cell_type": "code",
      "execution_count": null,
      "id": "f3ec5859",
      "metadata": {
        "id": "f3ec5859"
      },
      "outputs": [],
      "source": [
        "puncuation=\"$,#,*,!,<,>,%,?,@\"\n",
        "string=input(\"Enter your string\")\n",
        "no_pun=\"\"\n",
        "for i in string:\n",
        "    if i not in puncuation:\n",
        "        no_pun=no_pun+i\n",
        "        print(no_pun)\n",
        "        "
      ]
    },
    {
      "cell_type": "markdown",
      "id": "c380564c",
      "metadata": {
        "id": "c380564c"
      },
      "source": [
        "## ## Write a Python Program to Sort Words in Alphabetic Order"
      ]
    },
    {
      "cell_type": "code",
      "execution_count": null,
      "id": "b6b238ca",
      "metadata": {
        "id": "b6b238ca"
      },
      "outputs": [],
      "source": [
        "string=input(\"Enter your words :-\")\n",
        "lst=string.split()\n",
        "lst.sort()\n",
        "print(\"Alphabeticall order :-\")\n",
        "for i in lst:\n",
        "    print(i)"
      ]
    }
  ],
  "metadata": {
    "kernelspec": {
      "display_name": "Python 3 (ipykernel)",
      "language": "python",
      "name": "python3"
    },
    "language_info": {
      "codemirror_mode": {
        "name": "ipython",
        "version": 3
      },
      "file_extension": ".py",
      "mimetype": "text/x-python",
      "name": "python",
      "nbconvert_exporter": "python",
      "pygments_lexer": "ipython3",
      "version": "3.9.7"
    },
    "colab": {
      "name": "Assignment_8.ipynb",
      "provenance": []
    }
  },
  "nbformat": 4,
  "nbformat_minor": 5
}